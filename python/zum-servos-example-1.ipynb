{
 "cells": [
  {
   "cell_type": "markdown",
   "metadata": {},
   "source": [
    "# Example 1: Moving one servo connected to the zum bt-328 board\n",
    "\n",
    "## Introduction\n",
    "\n",
    "  This example shows **how to move one servo** using the interactive IPython 3.0 widgets from [Jupyter](http://jupyter.org/) (known before as ipython notebooks). This notebook is only a \"hello world\" example, but **it opens the door to control small servo-driven robots from Jupyter**. It is quite useful when researching on gait generation. The locomotion algorithms can be tested on real robots\n",
    "\n",
    "  The [bq zum BT-328 board](http://www.bq.com/es/productos/zum.html) is compatible with arduino, therefore this example can also be tested with [arduino boards](http://arduino.org/products)"
   ]
  },
  {
   "cell_type": "code",
   "execution_count": 1,
   "metadata": {
    "collapsed": false
   },
   "outputs": [],
   "source": [
    "import serial\n",
    "import Servo\n",
    "import time"
   ]
  },
  {
   "cell_type": "code",
   "execution_count": 2,
   "metadata": {
    "collapsed": false
   },
   "outputs": [
    {
     "name": "stderr",
     "output_type": "stream",
     "text": [
      ":0: FutureWarning: IPython widgets are experimental and may change in the future.\n"
     ]
    }
   ],
   "source": [
    "from IPython.html.widgets import interact"
   ]
  },
  {
   "cell_type": "markdown",
   "metadata": {},
   "source": [
    "Open the serial port"
   ]
  },
  {
   "cell_type": "code",
   "execution_count": 3,
   "metadata": {
    "collapsed": true
   },
   "outputs": [],
   "source": [
    "sp = serial.Serial(\"/dev/ttyUSB0\", 19200)\n"
   ]
  },
  {
   "cell_type": "markdown",
   "metadata": {},
   "source": [
    "Create a servo object"
   ]
  },
  {
   "cell_type": "code",
   "execution_count": 4,
   "metadata": {
    "collapsed": true
   },
   "outputs": [],
   "source": [
    "a = Servo.Servo(sp, dir = 'a')\n",
    "b = Servo.Servo(sp, dir = 'b')\n",
    "c = Servo.Servo(sp, dir = 'c')"
   ]
  },
  {
   "cell_type": "markdown",
   "metadata": {},
   "source": [
    "Move the servo for testing. Change the pos value"
   ]
  },
  {
   "cell_type": "code",
   "execution_count": 5,
   "metadata": {
    "collapsed": false
   },
   "outputs": [
    {
     "name": "stdout",
     "output_type": "stream",
     "text": [
      "a60\r\n",
      "b-60\r\n"
     ]
    }
   ],
   "source": [
    "a.pos = 60\n",
    "b.pos = -60"
   ]
  },
  {
   "cell_type": "markdown",
   "metadata": {},
   "source": [
    "Interactive widget for moving the servo"
   ]
  },
  {
   "cell_type": "code",
   "execution_count": 6,
   "metadata": {
    "collapsed": false
   },
   "outputs": [
    {
     "name": "stdout",
     "output_type": "stream",
     "text": [
      "a13\r\n"
     ]
    }
   ],
   "source": [
    "w1 = interact(a.set_pos, pos = (-90, 90))\n",
    "w2 = interact(b.set_pos, pos = (-90, 90))\n",
    "w3 = interact(c.set_pos, pos = (-90, 90))"
   ]
  },
  {
   "cell_type": "code",
   "execution_count": 8,
   "metadata": {
    "collapsed": false
   },
   "outputs": [
    {
     "name": "stdout",
     "output_type": "stream",
     "text": [
      "c-60\n",
      "c20\n",
      "\n",
      "\n"
     ]
    }
   ],
   "source": [
    "for i in range(2):\n",
    "    c.pos = -60\n",
    "    time.sleep(1)\n",
    "    c.pos = 20\n",
    "    time.sleep(1)"
   ]
  },
  {
   "cell_type": "code",
   "execution_count": null,
   "metadata": {
    "collapsed": true
   },
   "outputs": [],
   "source": []
  }
 ],
 "metadata": {
  "kernelspec": {
   "display_name": "Python 2",
   "language": "python",
   "name": "python2"
  },
  "language_info": {
   "codemirror_mode": {
    "name": "ipython",
    "version": 2
   },
   "file_extension": ".py",
   "mimetype": "text/x-python",
   "name": "python",
   "nbconvert_exporter": "python",
   "pygments_lexer": "ipython2",
   "version": "2.7.9"
  }
 },
 "nbformat": 4,
 "nbformat_minor": 0
}
