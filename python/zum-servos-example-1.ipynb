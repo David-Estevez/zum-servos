{
 "cells": [
  {
   "cell_type": "markdown",
   "metadata": {},
   "source": [
    "# Example 1: Moving one servo connected to the zum bt-328 board\n",
    "\n",
    "## Introduction\n",
    "\n",
    "  This example shows **how to move one servo** using the interactive IPython 3.0 widgets from [Jupyter](http://jupyter.org/) (known before as ipython notebooks). This notebook is only a \"hello world\" example, but **it opens the door to control small servo-driven robots from Jupyter**. It is quite useful when researching on gait generation. The locomotion algorithms can be tested easily on real robots\n",
    "\n",
    "  The [bq zum BT-328 board](http://www.bq.com/es/productos/zum.html) is compatible with arduino, therefore this example can also be tested with [arduino boards](http://arduino.org/products)\n",
    "  \n",
    "## Stuff needed\n",
    "\n",
    "* IPython 3.0 installed\n",
    "* Python **pyserial library** installed\n",
    "* A web browser\n",
    "* One Futaba 3003 servo (or any other compatible)\n",
    "* Control board: [bq zum BT-328 board](http://www.bq.com/es/productos/zum.html) or any other arduino compatible board\n",
    "* USB cable\n",
    "\n",
    "## Steps\n",
    "\n",
    "1. Download or clone the zum-servos github repo\n",
    "2. Connect the zum board to the laptor or pc by the serial cable\n",
    "3. Connect the servo to the zum / arduino **PIN 9**\n",
    "4. Upload the **zum-servos-fw.ino firmware** in the zum BT board\n",
    "5. Set the **serial port** in the python code (below). By default it is used the /dev/ttyUSB0 device in Linux\n",
    "6. Execute the notebook from the zum-servos/python folder\n",
    "7. Move the slider and check how the servo is moving :-)\n",
    "\n"
   ]
  },
  {
   "cell_type": "markdown",
   "metadata": {},
   "source": [
    "**NOTE:**\n",
    "When executing the notebook, you should use the **Python2 kernel**. This is because the pyserial library has not been ported to python3 yet\n"
   ]
  },
  {
   "cell_type": "markdown",
   "metadata": {},
   "source": [
    "## How it works\n",
    "\n",
    "The python **class Servo** communicates with the zum-servos firmware by the USB serial line. The Servo objects have the **method set_pos(ang)** to set the servo position. When this method is invoked, a command is sent to the zum board by serial communication. The firmware process it and moves the servo to the given position\n",
    "\n",
    "  The code is quite simple. First the serial port is opened (**Important**: baud rate should be set to 19200). Then a servo object is created. Finally the set_pos() method of the servo is called by the interactive Ipython 3.0 function to display the slider"
   ]
  },
  {
   "cell_type": "markdown",
   "metadata": {},
   "source": [
    "## The python code\n",
    "\n",
    "Import the **Serial class**. This is needed for opening the serial port."
   ]
  },
  {
   "cell_type": "code",
   "execution_count": 2,
   "metadata": {
    "collapsed": false
   },
   "outputs": [],
   "source": [
    "from serial import Serial"
   ]
  },
  {
   "cell_type": "markdown",
   "metadata": {},
   "source": [
    "Import the **Servo class**. It is needed for creating the Servo objects"
   ]
  },
  {
   "cell_type": "code",
   "execution_count": 3,
   "metadata": {
    "collapsed": true
   },
   "outputs": [],
   "source": [
    "from Servo import Servo"
   ]
  },
  {
   "cell_type": "markdown",
   "metadata": {},
   "source": [
    "Import the **IPython 3 interact function**. It is needed for creating the Interactive slider that moves the servo"
   ]
  },
  {
   "cell_type": "code",
   "execution_count": 4,
   "metadata": {
    "collapsed": false
   },
   "outputs": [
    {
     "name": "stderr",
     "output_type": "stream",
     "text": [
      ":0: FutureWarning: IPython widgets are experimental and may change in the future.\n"
     ]
    }
   ],
   "source": [
    "from IPython.html.widgets import interact"
   ]
  },
  {
   "cell_type": "markdown",
   "metadata": {},
   "source": [
    "**Open the serial port**"
   ]
  },
  {
   "cell_type": "code",
   "execution_count": 5,
   "metadata": {
    "collapsed": true
   },
   "outputs": [],
   "source": [
    "sp = Serial(\"/dev/ttyUSB0\", 19200)\n"
   ]
  },
  {
   "cell_type": "markdown",
   "metadata": {},
   "source": [
    "**Create a servo object**. It is linked to the serial port already opened"
   ]
  },
  {
   "cell_type": "code",
   "execution_count": 6,
   "metadata": {
    "collapsed": true
   },
   "outputs": [],
   "source": [
    "a = Servo(sp, dir = 'a')"
   ]
  },
  {
   "cell_type": "markdown",
   "metadata": {},
   "source": [
    "**Interactive widget for moving the servo**"
   ]
  },
  {
   "cell_type": "code",
   "execution_count": 7,
   "metadata": {
    "collapsed": false
   },
   "outputs": [],
   "source": [
    "w1 = interact(a.set_pos, pos = (-90, 90))"
   ]
  },
  {
   "cell_type": "markdown",
   "metadata": {
    "collapsed": true
   },
   "source": [
    "\n",
    "\n",
    "\n",
    "\n",
    "\n",
    "\n",
    "\n",
    "\n",
    "\n",
    "\n",
    "\n",
    "\n"
   ]
  },
  {
   "cell_type": "markdown",
   "metadata": {},
   "source": [
    "  \n",
    "   \n",
    "    \n",
    "     \n",
    "     \n",
    "     \n",
    "     \n",
    "     \n",
    "     \n",
    "     \n",
    "     "
   ]
  },
  {
   "cell_type": "markdown",
   "metadata": {},
   "source": [
    " "
   ]
  },
  {
   "cell_type": "markdown",
   "metadata": {},
   "source": [
    " "
   ]
  },
  {
   "cell_type": "markdown",
   "metadata": {},
   "source": [
    " "
   ]
  },
  {
   "cell_type": "markdown",
   "metadata": {},
   "source": [
    " "
   ]
  },
  {
   "cell_type": "markdown",
   "metadata": {},
   "source": [
    " "
   ]
  },
  {
   "cell_type": "markdown",
   "metadata": {},
   "source": [
    " "
   ]
  },
  {
   "cell_type": "code",
   "execution_count": null,
   "metadata": {
    "collapsed": true
   },
   "outputs": [],
   "source": []
  }
 ],
 "metadata": {
  "kernelspec": {
   "display_name": "Python 2",
   "language": "python",
   "name": "python2"
  },
  "language_info": {
   "codemirror_mode": {
    "name": "ipython",
    "version": 2
   },
   "file_extension": ".py",
   "mimetype": "text/x-python",
   "name": "python",
   "nbconvert_exporter": "python",
   "pygments_lexer": "ipython2",
   "version": "2.7.9"
  }
 },
 "nbformat": 4,
 "nbformat_minor": 0
}
