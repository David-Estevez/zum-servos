{
 "cells": [
  {
   "cell_type": "markdown",
   "metadata": {},
   "source": [
    "# Example 1: Moving one servo connected to the zum bt-328 board\n",
    "\n",
    "![Zum board + servos](images/zum-servos-board-1.jpg)\n",
    "\n",
    "## Introduction\n",
    "\n",
    "  This example shows **how to move one servo** using the interactive IPython 3.0 widgets from [Jupyter](http://jupyter.org/) (known before as ipython notebooks). This notebook is only a \"hello world\" example, but **it opens the door to control small servo-driven robots from Jupyter**. It is quite useful when researching on gait generation. The locomotion algorithms can be tested easily on real robots\n",
    "\n",
    "  The [bq zum BT-328 board](http://www.bq.com/es/productos/zum.html) is compatible with arduino, so this example can also be tested with [arduino boards](http://arduino.org/products)\n",
    "  \n",
    "## Stuff needed\n",
    "\n",
    "* IPython 3.0 installed\n",
    "* Python **pyserial library** installed\n",
    "* A web browser\n",
    "* One Futaba 3003 servo (or any other compatible)\n",
    "* Control board: [bq zum BT-328 board](http://www.bq.com/es/productos/zum.html) or any other arduino compatible board\n",
    "* USB cable\n",
    "\n",
    "## Steps\n",
    "\n",
    "### 1 Install Ipython 3.0\n",
    "\n",
    "Read [these instructions](http://ipython.org/install.html) for installing the latest Ipython 3.0. Once installed, check that you alredy have installed the 3.0 version. Open the console and type *ipython --version*:\n",
    "\n",
    "`ipython --version\n",
    " 3.0.0`\n",
    "\n",
    "### 2 Install the Pyserial python library\n",
    "\n",
    "Read [These instructions](http://pyserial.sourceforge.net/pyserial.html)\n",
    "\n",
    "Depending on your OS you may chose different methods:\n",
    "\n",
    "* **Ubuntu**:   `sudo apt-get install python-serial`\n",
    "* Anaconda environment:  `conda install pyserial`\n",
    "* PyPI:  `pip install pyserial`:\n",
    "\n",
    "### 3 Download the zum servos project\n",
    "\n",
    "Download or clone the [zum-servos github](https://github.com/Obijuan/zum-servos) repo\n",
    "It contains the firmware, python classes and example notebooks for moving the servos\n",
    "\n",
    "### 4 Hardware connections\n",
    "\n",
    "![Hardware connections](images/zum-servos-board-2.png)\n",
    "\n",
    "* Connect the Servo to the **PIN 9** of the zum / arduino board\n",
    "* Connect the board to the computer with the USB cable\n",
    "\n",
    "### 5 Upload the zum-servos firmware into the board\n",
    "\n",
    "Open the *zum_servos_fw.ino* firmware with the arduino IDE and upload it into the zum / arduino board. It is locate in the folder: **zum-servos/firmware/zum_servos_fw**\n",
    "\n",
    "### 6 Laucnh the Ipython notebook\n",
    "\n",
    "Launch the Ipython notebook from the **zum-servos/python folder**. Open the **zum-servos-example1** notebook (this one you are reading :-)\n",
    "\n",
    "### 7 Configure the serial port\n",
    "\n",
    "In the example python code, change the serial port name where your board is connected. In Linux the default name is */dev/ttyUSB0*. In Windows: *COM1*, *COM2*...\n",
    "\n",
    "## 8 run the notebook\n",
    "\n",
    "Run the notebook and enjoy moving the servo from the bottom slider!!!"
   ]
  },
  {
   "cell_type": "markdown",
   "metadata": {},
   "source": [
    "## How it works\n",
    "\n",
    "The python **class Servo** communicates with the zum-servos firmware by the USB serial line. The Servo objects have the **method set_pos(ang)** to set the servo position. When this method is invoked, a command is sent to the zum board by serial communication. The firmware process it and moves the servo to the given position\n",
    "\n",
    "  The code is quite simple. First the serial port is opened (**Important**: baud rate should be set to 19200). Then a servo object is created. Finally the set_pos() method of the servo is called by the interactive Ipython 3.0 function to display the slider"
   ]
  },
  {
   "cell_type": "markdown",
   "metadata": {},
   "source": [
    "## The python code\n",
    "\n",
    "Import the **Serial class**. This is needed for opening the serial port."
   ]
  },
  {
   "cell_type": "code",
   "execution_count": 7,
   "metadata": {
    "collapsed": false
   },
   "outputs": [],
   "source": [
    "from serial import Serial"
   ]
  },
  {
   "cell_type": "markdown",
   "metadata": {},
   "source": [
    "Import the **Servo class**. It is needed for creating the Servo objects"
   ]
  },
  {
   "cell_type": "code",
   "execution_count": 8,
   "metadata": {
    "collapsed": true
   },
   "outputs": [],
   "source": [
    "from Servo import Servo"
   ]
  },
  {
   "cell_type": "markdown",
   "metadata": {},
   "source": [
    "Import the **IPython 3 interact function**. It is needed for creating the Interactive slider that moves the servo"
   ]
  },
  {
   "cell_type": "code",
   "execution_count": 9,
   "metadata": {
    "collapsed": false
   },
   "outputs": [],
   "source": [
    "from IPython.html.widgets import interact"
   ]
  },
  {
   "cell_type": "markdown",
   "metadata": {},
   "source": [
    "**Open the serial port**\n",
    "\n",
    "Change the serial device name. In linux, by default, it is */dev/ttyUSB0*. In Windows, it should be *COM1*, *COM2* ..."
   ]
  },
  {
   "cell_type": "code",
   "execution_count": 10,
   "metadata": {
    "collapsed": true
   },
   "outputs": [],
   "source": [
    "sp = Serial(\"/dev/ttyUSB0\", 19200)\n"
   ]
  },
  {
   "cell_type": "markdown",
   "metadata": {},
   "source": [
    "**Create a servo object**. It is linked to the serial port already opened"
   ]
  },
  {
   "cell_type": "code",
   "execution_count": 11,
   "metadata": {
    "collapsed": true
   },
   "outputs": [],
   "source": [
    "a = Servo(sp, dir = 'a')"
   ]
  },
  {
   "cell_type": "markdown",
   "metadata": {},
   "source": [
    "**Interactive widget for moving the servo**"
   ]
  },
  {
   "cell_type": "code",
   "execution_count": 12,
   "metadata": {
    "collapsed": false
   },
   "outputs": [],
   "source": [
    "w1 = interact(a.set_pos, pos = (-90, 90))"
   ]
  },
  {
   "cell_type": "markdown",
   "metadata": {
    "collapsed": true
   },
   "source": [
    "**Example of a simple servo sequence generation**"
   ]
  },
  {
   "cell_type": "code",
   "execution_count": 21,
   "metadata": {
    "collapsed": true
   },
   "outputs": [],
   "source": [
    "import time\n",
    "\n",
    "#-- Sequence of angles\n",
    "seq = [40, 0, 20, -40, -80, 0]\n",
    "\n",
    "#-- Repeat the sequence n times\n",
    "for n in range(2):\n",
    "    for ang in seq:\n",
    "        a.pos = ang\n",
    "        time.sleep(0.8)"
   ]
  },
  {
   "cell_type": "code",
   "execution_count": null,
   "metadata": {
    "collapsed": true
   },
   "outputs": [],
   "source": []
  }
 ],
 "metadata": {
  "kernelspec": {
   "display_name": "Python 2",
   "language": "python",
   "name": "python2"
  },
  "language_info": {
   "codemirror_mode": {
    "name": "ipython",
    "version": 2
   },
   "file_extension": ".py",
   "mimetype": "text/x-python",
   "name": "python",
   "nbconvert_exporter": "python",
   "pygments_lexer": "ipython2",
   "version": "2.7.9"
  }
 },
 "nbformat": 4,
 "nbformat_minor": 0
}
